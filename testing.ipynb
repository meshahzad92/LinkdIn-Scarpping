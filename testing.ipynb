{
 "cells": [
  {
   "cell_type": "code",
   "execution_count": 79,
   "metadata": {},
   "outputs": [],
   "source": [
    "from importlib import reload\n",
    "from Files import constants, functions  \n",
    "\n",
    "reload(constants)\n",
    "reload(functions)\n",
    "\n",
    "from Files.constants import *\n",
    "from Files.functions import *"
   ]
  },
  {
   "cell_type": "code",
   "execution_count": 3,
   "metadata": {},
   "outputs": [],
   "source": [
    "driver = start_browser()\n"
   ]
  },
  {
   "cell_type": "markdown",
   "metadata": {},
   "source": [
    "# *Profile Loading + Login*"
   ]
  },
  {
   "cell_type": "code",
   "execution_count": 4,
   "metadata": {},
   "outputs": [
    {
     "name": "stdout",
     "output_type": "stream",
     "text": [
      "Login successful!\n"
     ]
    },
    {
     "data": {
      "text/plain": [
       "True"
      ]
     },
     "execution_count": 4,
     "metadata": {},
     "output_type": "execute_result"
    }
   ],
   "source": [
    "login(driver,email=my_email,password=password)"
   ]
  },
  {
   "cell_type": "code",
   "execution_count": 80,
   "metadata": {},
   "outputs": [],
   "source": [
    "open_page(driver,'https://www.linkedin.com/in/ahmddbilall')"
   ]
  },
  {
   "cell_type": "code",
   "execution_count": 81,
   "metadata": {},
   "outputs": [
    {
     "name": "stdout",
     "output_type": "stream",
     "text": [
      "NAMe:  Bilal Ahmad\n"
     ]
    }
   ],
   "source": [
    "\n",
    "xpath = \"/html/body/div[6]/div[3]/div/div/div[2]/div/div/main/section[1]/div[2]/div[2]/div[1]/div[1]/span[1]/a/h1\"\n",
    "name = get_data(driver, xpath)\n",
    "print(\"NAMe: \",name)"
   ]
  },
  {
   "cell_type": "code",
   "execution_count": 82,
   "metadata": {},
   "outputs": [
    {
     "data": {
      "text/plain": [
       "'Data Scientist | NLP | Machine learning'"
      ]
     },
     "execution_count": 82,
     "metadata": {},
     "output_type": "execute_result"
    }
   ],
   "source": [
    "#Bio\n",
    "xpath='/html/body/div[6]/div[3]/div/div/div[2]/div/div/main/section[1]/div[2]/div[2]/div[1]/div[2]'\n",
    "bio=get_data(driver, xpath)\n",
    "bio"
   ]
  },
  {
   "cell_type": "code",
   "execution_count": 83,
   "metadata": {},
   "outputs": [
    {
     "data": {
      "text/plain": [
       "'Lahore, Punjab, Pakistan'"
      ]
     },
     "execution_count": 83,
     "metadata": {},
     "output_type": "execute_result"
    }
   ],
   "source": [
    "xpath='/html/body/div[6]/div[3]/div/div/div[2]/div/div/main/section[1]/div[2]/div[2]/div[2]/span[1]'\n",
    "location=get_data(driver, xpath)\n",
    "location"
   ]
  },
  {
   "cell_type": "markdown",
   "metadata": {},
   "source": [
    "# *Experience*"
   ]
  },
  {
   "cell_type": "code",
   "execution_count": 84,
   "metadata": {},
   "outputs": [
    {
     "name": "stdout",
     "output_type": "stream",
     "text": [
      "Error processing an li element\n",
      "Error processing an li element\n",
      "Error processing an li element\n",
      "Error processing an li element\n",
      "Error processing an li element\n",
      "Error processing an li element\n",
      "Error processing an li element\n",
      "Error processing an li element\n",
      "Error processing an li element\n",
      "Error processing an li element\n",
      "Error processing an li element\n",
      "Error processing an li element\n"
     ]
    }
   ],
   "source": [
    "exp = get_experience(driver,'https://www.linkedin.com/in/ahmddbilall')"
   ]
  },
  {
   "cell_type": "code",
   "execution_count": 85,
   "metadata": {},
   "outputs": [
    {
     "data": {
      "text/plain": [
       "{'Data Science Intern': ['Tasks done during this internship: - Data preprocessing and analysis Web Scraping linkdin using Selenium Feature Engineering ML model implementation LLM application Groq, Gemini Api with streamlit deepgram. Fine tuning Llama 3.1 Text',\n",
       "  'Skills: Selenium · Beautiful Soup groq Google Gemini LLaMA streamlit',\n",
       "  '1',\n",
       "  'Jul 2024 - Aug · 2 mos',\n",
       "  'Analyzinn Solutions · Internship',\n",
       "  'Jul 2024 - Aug · 2 mos to',\n",
       "  'Data Science Intern',\n",
       "  '2',\n",
       "  'Remote'],\n",
       " 'Intern': ['Remote ·',\n",
       "  'completion certificate',\n",
       "  'Intern',\n",
       "  'The Sparks Foundation · Internship',\n",
       "  'Apr 2024 - May · 2 mos to',\n",
       "  'Skills: SLR · k-means clustering Data Science',\n",
       "  'selection certificate',\n",
       "  'Apr 2024 - May · 2 mos']}"
      ]
     },
     "execution_count": 85,
     "metadata": {},
     "output_type": "execute_result"
    }
   ],
   "source": [
    "exp"
   ]
  },
  {
   "cell_type": "markdown",
   "metadata": {},
   "source": [
    "# *Education*"
   ]
  },
  {
   "cell_type": "code",
   "execution_count": 75,
   "metadata": {},
   "outputs": [],
   "source": [
    "open_page(driver,'https://www.linkedin.com/in/ahmddbilall')"
   ]
  },
  {
   "cell_type": "code",
   "execution_count": 77,
   "metadata": {},
   "outputs": [
    {
     "name": "stdout",
     "output_type": "stream",
     "text": [
      "List created\n",
      "Found 0 education entries\n"
     ]
    }
   ],
   "source": []
  },
  {
   "cell_type": "code",
   "execution_count": null,
   "metadata": {},
   "outputs": [],
   "source": []
  },
  {
   "cell_type": "markdown",
   "metadata": {},
   "source": [
    "# Email"
   ]
  },
  {
   "cell_type": "code",
   "execution_count": 86,
   "metadata": {},
   "outputs": [
    {
     "name": "stdout",
     "output_type": "stream",
     "text": [
      "Button clicked successfully.\n"
     ]
    }
   ],
   "source": [
    "open_page(driver,'https://www.linkedin.com/in/ahmddbilall')\n",
    "path = '/html/body/div[6]/div[3]/div/div/div[2]/div/div/main/section[1]/div[2]/div[2]/div[2]/span[2]/a'\n",
    "button_click(driver, path)\n",
    "section_xpath = \"/html/body/div[4]/div/div/div[2]/section/div\"\n",
    "contact_info = get_contact_info(driver, section_xpath)\n",
    "email = next((info['content'] for info in contact_info if '@' in info.get('content', \"\")), None)"
   ]
  },
  {
   "cell_type": "code",
   "execution_count": 87,
   "metadata": {},
   "outputs": [
    {
     "data": {
      "text/plain": [
       "'bilallahmdd@gmail.com'"
      ]
     },
     "execution_count": 87,
     "metadata": {},
     "output_type": "execute_result"
    }
   ],
   "source": [
    "email"
   ]
  },
  {
   "cell_type": "markdown",
   "metadata": {},
   "source": [
    "# Skills\n"
   ]
  },
  {
   "cell_type": "code",
   "execution_count": 88,
   "metadata": {},
   "outputs": [
    {
     "name": "stdout",
     "output_type": "stream",
     "text": [
      "Error processing an li element\n",
      "Error processing an li element\n",
      "Error processing an li element\n",
      "Error processing an li element\n",
      "Error processing an li element\n",
      "Error processing an li element\n",
      "Error processing an li element\n",
      "Error processing an li element\n",
      "Error processing an li element\n",
      "Error processing an li element\n",
      "Error processing an li element\n",
      "Error processing an li element\n",
      "Error processing an li element\n",
      "Error processing an li element\n",
      "Error processing an li element\n",
      "Error processing an li element\n",
      "Error processing an li element\n",
      "Error processing an li element\n",
      "Error processing an li element\n",
      "Error processing an li element\n",
      "Error processing an li element\n",
      "Error processing an li element\n",
      "Error processing an li element\n",
      "Error processing an li element\n",
      "Error processing an li element\n",
      "Error processing an li element\n",
      "Error processing an li element\n",
      "Error processing an li element\n",
      "Error processing an li element\n",
      "Error processing an li element\n",
      "Error processing an li element\n",
      "Error processing an li element\n",
      "Error processing an li element\n",
      "Error processing an li element\n",
      "Error processing an li element\n",
      "Error processing an li element\n",
      "Error processing an li element\n",
      "Error processing an li element\n"
     ]
    },
    {
     "data": {
      "text/plain": [
       "['Selenium',\n",
       " 'Beautiful Soup',\n",
       " 'groq',\n",
       " 'Google Gemini',\n",
       " 'LLaMA',\n",
       " 'streamlit',\n",
       " 'pandas',\n",
       " 'Team Building',\n",
       " 'Problem Solving',\n",
       " 'Communication',\n",
       " 'SLR',\n",
       " 'k-means clustering',\n",
       " 'SQLite',\n",
       " 'Web Development',\n",
       " 'Front-End Development',\n",
       " 'Bootstrap (Framework)',\n",
       " 'Socket.io',\n",
       " 'Agile Project Management',\n",
       " 'System Architecture',\n",
       " 'Requirements Gathering']"
      ]
     },
     "execution_count": 88,
     "metadata": {},
     "output_type": "execute_result"
    }
   ],
   "source": [
    "get_skills(driver,'https://www.linkedin.com/in/ahmddbilall')"
   ]
  },
  {
   "cell_type": "code",
   "execution_count": 90,
   "metadata": {},
   "outputs": [],
   "source": [
    "open_page(driver,'https://www.linkedin.com/in/ahmddbilall')"
   ]
  },
  {
   "cell_type": "code",
   "execution_count": 91,
   "metadata": {},
   "outputs": [
    {
     "name": "stdout",
     "output_type": "stream",
     "text": [
      "Section 1 not found or doesn't contain the id 'followers'.\n",
      "Section 2 not found or doesn't contain the id 'followers'.\n",
      "Section 3 not found or doesn't contain the id 'followers'.\n",
      "Followers section found at XPath: /html/body/div[6]/div[3]/div/div/div[2]/div/div/main/section[4]\n",
      "List created\n",
      "Found followers: 979 followers\n"
     ]
    }
   ],
   "source": [
    "section = get_Followers_section(driver)\n",
    "followers_uncleaned = get_Followers(driver, section)"
   ]
  },
  {
   "cell_type": "code",
   "execution_count": 94,
   "metadata": {},
   "outputs": [
    {
     "data": {
      "text/plain": [
       "979"
      ]
     },
     "execution_count": 94,
     "metadata": {},
     "output_type": "execute_result"
    }
   ],
   "source": [
    "followers = int(re.sub(r'\\D', '', followers_uncleaned[0]))\n",
    "followers"
   ]
  },
  {
   "cell_type": "markdown",
   "metadata": {},
   "source": [
    "# *Loading Data to CSV*"
   ]
  },
  {
   "cell_type": "code",
   "execution_count": null,
   "metadata": {},
   "outputs": [],
   "source": []
  }
 ],
 "metadata": {
  "kernelspec": {
   "display_name": "Python 3",
   "language": "python",
   "name": "python3"
  },
  "language_info": {
   "codemirror_mode": {
    "name": "ipython",
    "version": 3
   },
   "file_extension": ".py",
   "mimetype": "text/x-python",
   "name": "python",
   "nbconvert_exporter": "python",
   "pygments_lexer": "ipython3",
   "version": "3.11.9"
  }
 },
 "nbformat": 4,
 "nbformat_minor": 2
}
