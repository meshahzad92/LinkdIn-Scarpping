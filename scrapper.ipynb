{
 "cells": [
  {
   "cell_type": "code",
   "execution_count": 148,
   "metadata": {},
   "outputs": [],
   "source": [
    "from importlib import reload\n",
    "from Files import constants, functions  # Import modules\n",
    "\n",
    "# Reload modules\n",
    "reload(constants)\n",
    "reload(functions)\n",
    "\n",
    "from Files.constants import *\n",
    "from Files.functions import *"
   ]
  },
  {
   "cell_type": "code",
   "execution_count": 149,
   "metadata": {},
   "outputs": [],
   "source": [
    "driver = start_browser()\n"
   ]
  },
  {
   "cell_type": "markdown",
   "metadata": {},
   "source": [
    "# *Profile Loading + Login*"
   ]
  },
  {
   "cell_type": "code",
   "execution_count": 150,
   "metadata": {},
   "outputs": [
    {
     "name": "stdout",
     "output_type": "stream",
     "text": [
      "Login successful!\n"
     ]
    },
    {
     "data": {
      "text/plain": [
       "True"
      ]
     },
     "execution_count": 150,
     "metadata": {},
     "output_type": "execute_result"
    }
   ],
   "source": [
    "login(driver,email=my_email,password=password,login_page_link=login_page)"
   ]
  },
  {
   "cell_type": "code",
   "execution_count": 151,
   "metadata": {},
   "outputs": [],
   "source": [
    "open_page(driver,Profile_url)"
   ]
  },
  {
   "cell_type": "code",
   "execution_count": 152,
   "metadata": {},
   "outputs": [
    {
     "name": "stdout",
     "output_type": "stream",
     "text": [
      "NAMe:  Hammad Naveed\n"
     ]
    }
   ],
   "source": [
    "\n",
    "xpath = \"/html/body/div[6]/div[3]/div/div/div[2]/div/div/main/section[1]/div[2]/div[2]/div[1]/div[1]/span[1]/a/h1\"\n",
    "name = get_data(driver, xpath)\n",
    "print(\"NAMe: \",name)"
   ]
  },
  {
   "cell_type": "code",
   "execution_count": 153,
   "metadata": {},
   "outputs": [
    {
     "data": {
      "text/plain": [
       "'Pro-Rector University of Central Punjab; Ex-Engineering Manager AI at Soliton Technologies; Ex-Director at NUCES-FAST; Co-founder Amal; Founder Tib.ai; AI in healthcare Consultant'"
      ]
     },
     "execution_count": 153,
     "metadata": {},
     "output_type": "execute_result"
    }
   ],
   "source": [
    "#Bio\n",
    "xpath='/html/body/div[6]/div[3]/div/div/div[2]/div/div/main/section[1]/div[2]/div[2]/div[1]/div[2]'\n",
    "bio=get_data(driver, xpath)\n",
    "bio"
   ]
  },
  {
   "cell_type": "code",
   "execution_count": 154,
   "metadata": {},
   "outputs": [
    {
     "data": {
      "text/plain": [
       "'Lahore, Punjab, Pakistan'"
      ]
     },
     "execution_count": 154,
     "metadata": {},
     "output_type": "execute_result"
    }
   ],
   "source": [
    "xpath='/html/body/div[6]/div[3]/div/div/div[2]/div/div/main/section[1]/div[2]/div[2]/div[2]/span[1]'\n",
    "location=get_data(driver, xpath)\n",
    "location"
   ]
  },
  {
   "cell_type": "markdown",
   "metadata": {},
   "source": [
    "# *Experience*"
   ]
  },
  {
   "cell_type": "code",
   "execution_count": 155,
   "metadata": {},
   "outputs": [
    {
     "name": "stdout",
     "output_type": "stream",
     "text": [
      "Button clicked successfully.\n"
     ]
    }
   ],
   "source": [
    "#Show all experiences button\n",
    "path='/html/body/div[6]/div[3]/div/div/div[2]/div/div/main/section[4]/div[3]/div/div/div/a'\n",
    "button_click(driver,path)"
   ]
  },
  {
   "cell_type": "code",
   "execution_count": 156,
   "metadata": {},
   "outputs": [
    {
     "name": "stdout",
     "output_type": "stream",
     "text": [
      "List created\n",
      "Found 11 experience entries\n"
     ]
    }
   ],
   "source": [
    "\n",
    "# path='/html/body/div[6]/div[3]/div/div/div[2]/div/div/main/section/div[2]/div/div[1]/ul'\n",
    "\n",
    "experience_list=get_experience(driver)"
   ]
  },
  {
   "cell_type": "code",
   "execution_count": 157,
   "metadata": {},
   "outputs": [
    {
     "name": "stdout",
     "output_type": "stream",
     "text": [
      "['Pro-Rector', 'University Of Central Punjab · Full-time', 'Jul 2024 - Present · 6 mos', 'Jul 2024 to Present · 6 mos', 'On-site']\n",
      "['Co-Founder', 'Amal', '2020 - Present · 5 yrs', '2020 to Present · 5 yrs', 'Digital Pathology Solution']\n",
      "['Adjunct Research Assistant Professor', 'University of Illinois at Chicago', 'Jan 2016 - Present · 9 yrs', 'Jan 2016 to Present · 9 yrs', 'Chicago']\n",
      "['Engineering Manager', 'Soliton Technologies · Full-time', 'Jan 2024 - Jun 2024 · 6 mos', 'Jan 2024 to Jun 2024 · 6 mos', 'Lahore, Punjab, Pakistan · On-site']\n",
      "['National University of Computer and Emerging Sciences', 'Full-time · 6 yrs 6 mos', 'Professor', 'Jul 2022 - Dec 2023 · 1 yr 6 mos', 'Jul 2022 to Dec 2023 · 1 yr 6 mos', 'Lahore, Punjab, Pakistan', 'Director', 'Aug 2021 - Dec 2023 · 2 yrs 5 mos', 'Aug 2021 to Dec 2023 · 2 yrs 5 mos', 'Associate Professor', 'Jul 2021 - Jun 2022 · 1 yr', 'Jul 2021 to Jun 2022 · 1 yr', 'Director, Offices of Research, Innovation and Commercialization', 'Jan 2021 - Jun 2021 · 6 mos', 'Jan 2021 to Jun 2021 · 6 mos', 'Islāmābād, Pakistan', 'Looking after the research related policy matters and activities of all 5 campuses of NUCES-FAST', 'Jul 2017 - Jun 2021 · 4 yrs', 'Jul 2017 to Jun 2021 · 4 yrs', 'Islamabad, Pakistan']\n",
      "['Research Assistant Professor', 'Toyota Technological Institute at Chicago (TTIC)', 'Nov 2014 - Aug 2017 · 2 yrs 10 mos', 'Nov 2014 to Aug 2017 · 2 yrs 10 mos', 'Chicago']\n",
      "['Postdoctoral Fellow', 'KAUST', 'Aug 2013 - Nov 2014 · 1 yr 4 mos', 'Aug 2013 to Nov 2014 · 1 yr 4 mos', 'Saudi Arabia']\n",
      "['Postdoctoral Fellow', 'CAS-MPG Partner Institute at Computational Biology', 'Aug 2012 - Jun 2013 · 11 mos', 'Aug 2012 to Jun 2013 · 11 mos', 'Shanghai City, China']\n",
      "['Phd Student', 'UIC', 'Aug 2007 - May 2012 · 4 yrs 10 mos', 'Aug 2007 to May 2012 · 4 yrs 10 mos']\n",
      "['Software Engineer (Team Lead)', 'Data Solutions (Pvt) Ltd Pakistan', 'Aug 2006 - Jul 2007 · 1 yr', 'Aug 2006 to Jul 2007 · 1 yr']\n",
      "['Design Engineer', 'Telematix Pakistan (Pvt) Ltd', 'Jun 2005 - Aug 2006 · 1 yr 3 mos', 'Jun 2005 to Aug 2006 · 1 yr 3 mos']\n"
     ]
    }
   ],
   "source": [
    "for experience in experience_list:\n",
    "    print(experience)"
   ]
  },
  {
   "cell_type": "markdown",
   "metadata": {},
   "source": [
    "# *Education*"
   ]
  },
  {
   "cell_type": "code",
   "execution_count": 158,
   "metadata": {},
   "outputs": [],
   "source": [
    "#go back to profile page\n",
    "open_page(driver,Profile_url)"
   ]
  },
  {
   "cell_type": "code",
   "execution_count": 162,
   "metadata": {},
   "outputs": [
    {
     "name": "stdout",
     "output_type": "stream",
     "text": [
      "List created\n",
      "Found 2 experience entries\n"
     ]
    }
   ],
   "source": [
    "# list='/html/body/div[6]/div[3]/div/div/div[2]/div/div/main/section[5]/div[3]/ul'\n",
    "education_list=get_education(driver)"
   ]
  },
  {
   "cell_type": "code",
   "execution_count": 163,
   "metadata": {},
   "outputs": [
    {
     "name": "stdout",
     "output_type": "stream",
     "text": [
      "['University of Illinois Chicago', 'Doctor of Philosophy (Ph.D.), Bioinformatics', '2007 - 2012']\n",
      "['National University of Computer and Emerging Sciences', 'BS, Computer Science', '2001 - 2005']\n"
     ]
    }
   ],
   "source": [
    "for education in education_list:\n",
    "    print(education)"
   ]
  },
  {
   "cell_type": "markdown",
   "metadata": {},
   "source": [
    "# *Loading Data to CSV*"
   ]
  },
  {
   "cell_type": "code",
   "execution_count": 164,
   "metadata": {},
   "outputs": [
    {
     "name": "stdout",
     "output_type": "stream",
     "text": [
      "Error occurred while saving data to CSV: [Errno 13] Permission denied: 'scraped_data.csv'\n"
     ]
    }
   ],
   "source": [
    "save_to_csv(name, bio, location, experience_list, education_list)\n"
   ]
  }
 ],
 "metadata": {
  "kernelspec": {
   "display_name": "Python 3",
   "language": "python",
   "name": "python3"
  },
  "language_info": {
   "codemirror_mode": {
    "name": "ipython",
    "version": 3
   },
   "file_extension": ".py",
   "mimetype": "text/x-python",
   "name": "python",
   "nbconvert_exporter": "python",
   "pygments_lexer": "ipython3",
   "version": "3.12.7"
  }
 },
 "nbformat": 4,
 "nbformat_minor": 2
}
